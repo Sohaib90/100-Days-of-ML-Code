{
  "nbformat": 4,
  "nbformat_minor": 0,
  "metadata": {
    "colab": {
      "name": "autoencoder_using_convo.ipynb",
      "version": "0.3.2",
      "provenance": []
    },
    "kernelspec": {
      "name": "python3",
      "display_name": "Python 3"
    },
    "accelerator": "GPU"
  },
  "cells": [
    {
      "metadata": {
        "id": "uKaL8z1Mo8BT",
        "colab_type": "code",
        "colab": {
          "base_uri": "https://localhost:8080/",
          "height": 34
        },
        "outputId": "dc88f8be-05b2-470d-d85c-6b107511aaa5"
      },
      "cell_type": "code",
      "source": [
        "import keras\n",
        "import numpy as np\n",
        "from keras.datasets import mnist\n",
        "import matplotlib.pyplot as plt"
      ],
      "execution_count": 1,
      "outputs": [
        {
          "output_type": "stream",
          "text": [
            "Using TensorFlow backend.\n"
          ],
          "name": "stderr"
        }
      ]
    },
    {
      "metadata": {
        "id": "zFNLLpVJpdFz",
        "colab_type": "code",
        "colab": {}
      },
      "cell_type": "code",
      "source": [
        "from keras.models import Sequential\n",
        "from keras.layers import Dense, Activation, Conv2D, MaxPooling2D, UpSampling2D\n",
        "\n",
        "model = Sequential ([\n",
        "    Conv2D(16, (3,3), strides=(1,1), padding=\"SAME\",input_shape=(28,28,1)),\n",
        "    MaxPooling2D((2,2)),\n",
        "    Activation('relu'),\n",
        "    Conv2D(32, (3,3), strides=(1,1), padding=\"SAME\"),\n",
        "    MaxPooling2D((2,2)),\n",
        "    Activation('relu'),\n",
        "    \n",
        "    UpSampling2D((2,2)),\n",
        "    Conv2D(32,(3,3), strides=(1,1), padding=\"SAME\"),\n",
        "    Activation('relu'),\n",
        "    UpSampling2D((2,2)),\n",
        "    Conv2D(16,(3,3), strides=(1,1), padding=\"SAME\"),\n",
        "    Activation('relu'),\n",
        "    Conv2D(1,(3,3), strides=(1,1), padding=\"SAME\"),\n",
        "    Activation('relu')\n",
        "])"
      ],
      "execution_count": 0,
      "outputs": []
    },
    {
      "metadata": {
        "id": "3Np4bhI5sH8J",
        "colab_type": "code",
        "colab": {
          "base_uri": "https://localhost:8080/",
          "height": 612
        },
        "outputId": "5cce9afa-9cb2-42c9-dbce-1011d21a9ab9"
      },
      "cell_type": "code",
      "source": [
        "model.summary()\n"
      ],
      "execution_count": 20,
      "outputs": [
        {
          "output_type": "stream",
          "text": [
            "_________________________________________________________________\n",
            "Layer (type)                 Output Shape              Param #   \n",
            "=================================================================\n",
            "conv2d_21 (Conv2D)           (None, 28, 28, 16)        160       \n",
            "_________________________________________________________________\n",
            "max_pooling2d_10 (MaxPooling (None, 14, 14, 16)        0         \n",
            "_________________________________________________________________\n",
            "activation_20 (Activation)   (None, 14, 14, 16)        0         \n",
            "_________________________________________________________________\n",
            "conv2d_22 (Conv2D)           (None, 14, 14, 32)        4640      \n",
            "_________________________________________________________________\n",
            "max_pooling2d_11 (MaxPooling (None, 7, 7, 32)          0         \n",
            "_________________________________________________________________\n",
            "activation_21 (Activation)   (None, 7, 7, 32)          0         \n",
            "_________________________________________________________________\n",
            "up_sampling2d_8 (UpSampling2 (None, 14, 14, 32)        0         \n",
            "_________________________________________________________________\n",
            "conv2d_23 (Conv2D)           (None, 14, 14, 32)        9248      \n",
            "_________________________________________________________________\n",
            "activation_22 (Activation)   (None, 14, 14, 32)        0         \n",
            "_________________________________________________________________\n",
            "up_sampling2d_9 (UpSampling2 (None, 28, 28, 32)        0         \n",
            "_________________________________________________________________\n",
            "conv2d_24 (Conv2D)           (None, 28, 28, 16)        4624      \n",
            "_________________________________________________________________\n",
            "activation_23 (Activation)   (None, 28, 28, 16)        0         \n",
            "_________________________________________________________________\n",
            "conv2d_25 (Conv2D)           (None, 28, 28, 1)         145       \n",
            "_________________________________________________________________\n",
            "activation_24 (Activation)   (None, 28, 28, 1)         0         \n",
            "=================================================================\n",
            "Total params: 18,817\n",
            "Trainable params: 18,817\n",
            "Non-trainable params: 0\n",
            "_________________________________________________________________\n"
          ],
          "name": "stdout"
        }
      ]
    },
    {
      "metadata": {
        "id": "OMQHjkRRsUyq",
        "colab_type": "code",
        "colab": {}
      },
      "cell_type": "code",
      "source": [
        "optimizer = keras.optimizers.Adam(lr=0.001, beta_1=0.9, beta_2=0.999, epsilon=None, decay=0.0, amsgrad=False)\n",
        "model.compile(loss = \"mean_squared_error\", optimizer=optimizer)"
      ],
      "execution_count": 0,
      "outputs": []
    },
    {
      "metadata": {
        "id": "6hhQJ1IdtAGf",
        "colab_type": "code",
        "colab": {}
      },
      "cell_type": "code",
      "source": [
        "from keras.callbacks import EarlyStopping\n",
        "#set early stopping monitor so the model stops \n",
        "#training when it won't improve anymore\n",
        "early_stopping = EarlyStopping(patience=3)"
      ],
      "execution_count": 0,
      "outputs": []
    },
    {
      "metadata": {
        "id": "o-DxPXOetEFt",
        "colab_type": "code",
        "colab": {}
      },
      "cell_type": "code",
      "source": [
        "(x_train, y_train), (x_test, y_test) = mnist.load_data()\n",
        "x_train = x_train.reshape(x_train.shape[0], x_train.shape[1], x_train.shape[2],1)\n",
        "x_train= x_train/255.0\n",
        "x_test = x_test.reshape(x_test.shape[0], x_test.shape[1], x_test.shape[2],1)\n",
        "x_test = x_test/255.0"
      ],
      "execution_count": 0,
      "outputs": []
    },
    {
      "metadata": {
        "id": "jS6xCweYtMhr",
        "colab_type": "code",
        "colab": {
          "base_uri": "https://localhost:8080/",
          "height": 1108
        },
        "outputId": "d63ec80d-b546-469e-d7f1-a0ef3c3744f6"
      },
      "cell_type": "code",
      "source": [
        "model.fit(x_train, x_train,shuffle=True, epochs=30, callbacks=[early_stopping])"
      ],
      "execution_count": 29,
      "outputs": [
        {
          "output_type": "stream",
          "text": [
            "Epoch 1/30\n",
            "60000/60000 [==============================] - 22s 372us/step - loss: 0.0039\n",
            "Epoch 2/30\n",
            "  544/60000 [..............................] - ETA: 18s - loss: 0.0022"
          ],
          "name": "stdout"
        },
        {
          "output_type": "stream",
          "text": [
            "/usr/local/lib/python3.6/dist-packages/keras/callbacks.py:569: RuntimeWarning: Early stopping conditioned on metric `val_loss` which is not available. Available metrics are: loss\n",
            "  (self.monitor, ','.join(list(logs.keys()))), RuntimeWarning\n"
          ],
          "name": "stderr"
        },
        {
          "output_type": "stream",
          "text": [
            "60000/60000 [==============================] - 19s 317us/step - loss: 0.0019\n",
            "Epoch 3/30\n",
            "60000/60000 [==============================] - 19s 318us/step - loss: 0.0016\n",
            "Epoch 4/30\n",
            "60000/60000 [==============================] - 19s 317us/step - loss: 0.0014\n",
            "Epoch 5/30\n",
            "60000/60000 [==============================] - 19s 316us/step - loss: 0.0013\n",
            "Epoch 6/30\n",
            "60000/60000 [==============================] - 19s 317us/step - loss: 0.0012\n",
            "Epoch 7/30\n",
            "60000/60000 [==============================] - 19s 316us/step - loss: 0.0012\n",
            "Epoch 8/30\n",
            "60000/60000 [==============================] - 19s 316us/step - loss: 0.0011\n",
            "Epoch 9/30\n",
            "60000/60000 [==============================] - 19s 317us/step - loss: 0.0011\n",
            "Epoch 10/30\n",
            "60000/60000 [==============================] - 19s 317us/step - loss: 0.0010\n",
            "Epoch 11/30\n",
            "60000/60000 [==============================] - 19s 316us/step - loss: 9.9250e-04\n",
            "Epoch 12/30\n",
            "60000/60000 [==============================] - 19s 315us/step - loss: 9.6835e-04\n",
            "Epoch 13/30\n",
            "60000/60000 [==============================] - 19s 320us/step - loss: 9.4418e-04\n",
            "Epoch 14/30\n",
            "60000/60000 [==============================] - 19s 318us/step - loss: 9.3026e-04\n",
            "Epoch 15/30\n",
            "60000/60000 [==============================] - 19s 315us/step - loss: 9.1392e-04\n",
            "Epoch 16/30\n",
            "60000/60000 [==============================] - 19s 312us/step - loss: 8.9986e-04\n",
            "Epoch 17/30\n",
            "60000/60000 [==============================] - 19s 314us/step - loss: 8.8998e-04\n",
            "Epoch 18/30\n",
            "60000/60000 [==============================] - 19s 316us/step - loss: 8.7571e-04\n",
            "Epoch 19/30\n",
            "60000/60000 [==============================] - 19s 314us/step - loss: 8.6820e-04\n",
            "Epoch 20/30\n",
            "60000/60000 [==============================] - 19s 315us/step - loss: 8.5869e-04\n",
            "Epoch 21/30\n",
            "60000/60000 [==============================] - 19s 316us/step - loss: 8.4944e-04\n",
            "Epoch 22/30\n",
            "60000/60000 [==============================] - 19s 315us/step - loss: 8.4043e-04\n",
            "Epoch 23/30\n",
            "60000/60000 [==============================] - 19s 312us/step - loss: 8.3602e-04\n",
            "Epoch 24/30\n",
            "60000/60000 [==============================] - 19s 312us/step - loss: 8.2742e-04\n",
            "Epoch 25/30\n",
            "60000/60000 [==============================] - 19s 311us/step - loss: 8.1938e-04\n",
            "Epoch 26/30\n",
            "60000/60000 [==============================] - 19s 310us/step - loss: 8.1657e-04\n",
            "Epoch 27/30\n",
            "60000/60000 [==============================] - 19s 312us/step - loss: 8.0811e-04\n",
            "Epoch 28/30\n",
            "60000/60000 [==============================] - 19s 313us/step - loss: 8.0548e-04\n",
            "Epoch 29/30\n",
            "60000/60000 [==============================] - 19s 310us/step - loss: 7.9770e-04\n",
            "Epoch 30/30\n",
            "60000/60000 [==============================] - 19s 319us/step - loss: 7.9566e-04\n"
          ],
          "name": "stdout"
        },
        {
          "output_type": "execute_result",
          "data": {
            "text/plain": [
              "<keras.callbacks.History at 0x7fd02c6f5c50>"
            ]
          },
          "metadata": {
            "tags": []
          },
          "execution_count": 29
        }
      ]
    },
    {
      "metadata": {
        "id": "4ypFTrbUtQbF",
        "colab_type": "code",
        "colab": {
          "base_uri": "https://localhost:8080/",
          "height": 51
        },
        "outputId": "ce4578d8-d9ae-4891-a10f-1337a399a05d"
      },
      "cell_type": "code",
      "source": [
        "print(\"loss is {}\".format(model.evaluate(x_test,x_test)))"
      ],
      "execution_count": 30,
      "outputs": [
        {
          "output_type": "stream",
          "text": [
            "10000/10000 [==============================] - 1s 91us/step\n",
            "loss is 0.0007859534217976034\n"
          ],
          "name": "stdout"
        }
      ]
    },
    {
      "metadata": {
        "id": "vVyrfjTEwnyY",
        "colab_type": "code",
        "colab": {}
      },
      "cell_type": "code",
      "source": [
        "predictions = model.predict(x_test)"
      ],
      "execution_count": 0,
      "outputs": []
    },
    {
      "metadata": {
        "id": "_93DuhdSwqnd",
        "colab_type": "code",
        "colab": {
          "base_uri": "https://localhost:8080/",
          "height": 244
        },
        "outputId": "2b31daf1-3ec8-46e1-b7b9-cf1753b0fac4"
      },
      "cell_type": "code",
      "source": [
        "n = 10  # how many digits we will display\n",
        "plt.figure(figsize=(20, 4))\n",
        "for i in range(n):\n",
        "    # display original\n",
        "    ax = plt.subplot(2, n, i + 1)\n",
        "    plt.imshow(x_test[i].reshape(28,28))\n",
        "    plt.gray()\n",
        "    ax.get_xaxis().set_visible(False)\n",
        "    ax.get_yaxis().set_visible(False)\n",
        "\n",
        "    # display reconstruction\n",
        "    ax = plt.subplot(2, n, i + 1 + n)\n",
        "    plt.imshow(predictions[i].reshape(28,28))\n",
        "    plt.gray()\n",
        "    ax.get_xaxis().set_visible(False)\n",
        "    ax.get_yaxis().set_visible(False)\n",
        "plt.show()"
      ],
      "execution_count": 32,
      "outputs": [
        {
          "output_type": "display_data",
          "data": {
            "image/png": "[encoded data removed]",
            "text/plain": [
              "<matplotlib.figure.Figure at 0x7fd02b8d3198>"
            ]
          },
          "metadata": {
            "tags": []
          }
        }
      ]
    },
    {
      "metadata": {
        "id": "Jde8g8Brws6K",
        "colab_type": "code",
        "colab": {}
      },
      "cell_type": "code",
      "source": [
        "model.save(\"model_autoencoder_convolution.h5\")"
      ],
      "execution_count": 0,
      "outputs": []
    },
    {
      "metadata": {
        "id": "xySkGPVTwzwS",
        "colab_type": "code",
        "colab": {}
      },
      "cell_type": "code",
      "source": [
        "\n",
        "from google.colab import files\n",
        "files.download(\"model_autoencoder_convolution.h5\")"
      ],
      "execution_count": 0,
      "outputs": []
    },
    {
      "metadata": {
        "id": "778Y8X90w49z",
        "colab_type": "code",
        "colab": {}
      },
      "cell_type": "code",
      "source": [
        ""
      ],
      "execution_count": 0,
      "outputs": []
    }
  ]
}